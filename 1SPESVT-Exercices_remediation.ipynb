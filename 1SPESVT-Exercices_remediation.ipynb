{
 "cells": [
  {
   "cell_type": "markdown",
   "id": "8688e09c",
   "metadata": {},
   "source": [
    "#           <center>1SPE_SVT - TP0 - RAPPELS ET METHODOLOGIE TECHNIQUE</center>"
   ]
  },
  {
   "cell_type": "markdown",
   "id": "12e08011",
   "metadata": {},
   "source": [
    "Cette séance a pour but de vous remettre en contact avec l'environnement Jupyter (utilisé en SNT et peut-être en Mathématiques), servant à programmer en Python, entre autre, tout en vous permettant de revoir des notions aborder en SVT durant l'année de 2de. <br/> Elle sert de base technique au TP1.\n",
    "\n",
    "**NB :** Dans les lignes de code, le symbôle <FONT color=\"green\">\"#\"</FONT> devance des explications qui ne sont pas pris en compte par l'interpréteur."
   ]
  },
  {
   "cell_type": "markdown",
   "id": "c1b4fe68",
   "metadata": {},
   "source": [
    "## I. Les caractéristiques des cellules"
   ]
  },
  {
   "cell_type": "markdown",
   "id": "fa795da7",
   "metadata": {},
   "source": [
    "1. **Donner** les noms des éléments constitutifs d'une cellule."
   ]
  },
  {
   "cell_type": "raw",
   "id": "062ad3d9",
   "metadata": {},
   "source": [
    "XXX"
   ]
  },
  {
   "cell_type": "markdown",
   "id": "091aabd6",
   "metadata": {},
   "source": [
    "2. **Caractériser** les procaryotes et les eucaryotes."
   ]
  },
  {
   "cell_type": "raw",
   "id": "a85bba8e",
   "metadata": {},
   "source": [
    "XXX"
   ]
  },
  {
   "cell_type": "markdown",
   "id": "e614e699",
   "metadata": {},
   "source": [
    "3. **Citer** 2 métabolismes présents chez les organismes hétérotrophes (se nourrit au dépend des autres êtres vivants)."
   ]
  },
  {
   "cell_type": "raw",
   "id": "35781f9f",
   "metadata": {},
   "source": [
    "XXX"
   ]
  },
  {
   "cell_type": "markdown",
   "id": "09b34e6d",
   "metadata": {},
   "source": [
    "4. **Donner** le principe de la photosynthèse."
   ]
  },
  {
   "cell_type": "raw",
   "id": "94298827",
   "metadata": {},
   "source": [
    "XXX"
   ]
  },
  {
   "cell_type": "markdown",
   "id": "3af624be",
   "metadata": {},
   "source": [
    "5. Sur le site [libmol.org](https://libmol.org/) :\n",
    "    - **ouvrir** la molécule 1d29 (à taper dans le formulaire intitulé \"Mot clé\") ;\n",
    "    - **représenter** la molécule sous forme de \"Boules et bâtonnets\" ;\n",
    "    - **colorer** par résidus ;"
   ]
  },
  {
   "cell_type": "markdown",
   "id": "9b7bfb8e",
   "metadata": {},
   "source": [
    "6. **Décrire** la molécule et la **nommer**."
   ]
  },
  {
   "cell_type": "raw",
   "id": "a1e77ea6",
   "metadata": {},
   "source": [
    "XXX"
   ]
  },
  {
   "cell_type": "markdown",
   "id": "d973fc00",
   "metadata": {},
   "source": [
    "6. Le langage Python permet également d'afficher les molécules.<br/>\n",
    "**Etudier** et **exécuter** la cellule ci-dessous (\"Ctrl + Entrée\" après avoir sélectionné la cellule ou clic dans \"Barre d'outils\"). Vous pouvez manipuler la molécules qui apparait à l'aide de la souris et connaitre\n",
    "également les noms des sous-unités constitutives (ne tenir compte que de la 2e lettre entre crochet)."
   ]
  },
  {
   "cell_type": "code",
   "execution_count": null,
   "id": "aacce2ea",
   "metadata": {},
   "outputs": [],
   "source": [
    "from Bio.PDB import * # importe la gestion des fichier .pdb à partir de la librairie Biopython\n",
    "import nglview # importe la librairie qui permet d'afficher les molécules en 3D\n",
    "\n",
    "# Etablissement d'une fonction\n",
    "def molecule():\n",
    "    \n",
    "    # télécharge la molécule \"2hhb\" du site RCSB PDB et la stocke dans la variable \"view\"\n",
    "    # par défaut, la molécule s'affiche sous forme de rubans\n",
    "    view = nglview.show_pdbid(\"2hhb\")  \n",
    "    \n",
    "    # affiche les résidus sous forme de sphéres et batonnets et attribue une color à chaque type de résidus\n",
    "    view.add_representation(repr_type='ball+stick', selection='residue', color='residueindex') \n",
    "    return(view) # renvoie le contenu de la variable view\n",
    "\n",
    "molecule() # appel de la fonction "
   ]
  },
  {
   "cell_type": "markdown",
   "id": "fbc27071",
   "metadata": {},
   "source": [
    "7. **Afficher** la molécule 1d29 en utilisant le programme précédent comme modèle (changer le nom des variables). <br/>\n",
    "Vous taperez votre code dans la cellule ci-dessous."
   ]
  },
  {
   "cell_type": "code",
   "execution_count": null,
   "id": "8fdab2d7",
   "metadata": {},
   "outputs": [],
   "source": []
  },
  {
   "cell_type": "markdown",
   "id": "737487af",
   "metadata": {},
   "source": [
    "8. De quels éléments est constituée cette molécule ?"
   ]
  },
  {
   "cell_type": "raw",
   "id": "da25c525",
   "metadata": {},
   "source": [
    "XXX"
   ]
  },
  {
   "cell_type": "markdown",
   "id": "e2cdd2ad",
   "metadata": {},
   "source": [
    "8. **Donner** la séquence complémentaire de celle affichée ci-après, sachant que C s'associe à G, A à T :\n",
    "ATCCCGTTGCAATTTCGGGAA"
   ]
  },
  {
   "cell_type": "raw",
   "id": "fa7950c6",
   "metadata": {},
   "source": [
    "XXX"
   ]
  },
  {
   "cell_type": "markdown",
   "id": "24fe59e8",
   "metadata": {},
   "source": [
    "Python, avec le module biopython, peut trouver une séquence complémentaire de façon automatique.\n",
    "**Exécuter** le code ci-après."
   ]
  },
  {
   "cell_type": "code",
   "execution_count": null,
   "id": "bfbacd4b",
   "metadata": {},
   "outputs": [],
   "source": [
    "from Bio.Seq import Seq\n",
    "\n",
    "def sequence():\n",
    "    maSequence = Seq(\"ATCCTGTCTGTAGCTG\") # séquence de nucléotides étudiée\n",
    "    maSequence_comp = maSequence.complement() # la méthode . complement trouve le nucléotide complémentaire\n",
    "    print (\"Le brin 1 est :\",maSequence) # affiche la séquence\n",
    "    print (\"Le brin 2 est :\",maSequence_comp)\n",
    "    return()\n",
    "    \n",
    "sequence()"
   ]
  },
  {
   "cell_type": "markdown",
   "id": "eb4b17c2",
   "metadata": {},
   "source": [
    "9. A l'aide d'un programme, **déterminer** la séquence complémentaire de : ATCCCGTTGCAATTTCGGGAA."
   ]
  },
  {
   "cell_type": "code",
   "execution_count": null,
   "id": "2e39df3c",
   "metadata": {},
   "outputs": [],
   "source": []
  },
  {
   "cell_type": "markdown",
   "id": "eb7d5a42",
   "metadata": {},
   "source": [
    "## II. Le métabolisme des cellules"
   ]
  },
  {
   "cell_type": "markdown",
   "id": "14aa8056",
   "metadata": {},
   "source": [
    "1. A partir du fichier Excel que vous avez téléchargé, **construire** un graphique pour la respiration, puis la photosynthèse."
   ]
  },
  {
   "cell_type": "markdown",
   "id": "a47feb3d",
   "metadata": {},
   "source": [
    "En 2de, durant le thème 4 de SNT, *les données structurées*, vous avez vu le traitement données issues d'un fichier au format *.csv*, entre autre, afin d'obtenir une dataframe à l'aide de la librairie Pandas. Nous allons revenir sur ce travail et aller plus loin en voyant la création de graphique.<br/>\n",
    "Pour plus de clarté, l'obtention de la Dataframe et la création du graphique sont réalisées dans deux cellules différentes."
   ]
  },
  {
   "cell_type": "markdown",
   "id": "7eabba97",
   "metadata": {},
   "source": [
    "On réalise une étude du métabolisme des levure à l'aide du dispositif EXAO : Les mesures sont réalisées durant 6 minutes à l'aide d'une sonde à CO<sub>2</sub> et d'une à O<sub>2</sub>. On injecte du glucose au bout de 2 minutes.Les données sont exportées au format *.csv* pour être traité à l'aide d'un programme Python.<br/>\n",
    "**Analyser** le code *Python* ci-dessous qui concerne la création d'une Dataframe à partir d'un fichier *.csv*, se trouvant dans le même répertoire que ce Notebook, et **l'éxécuter** (bouton *Run* ou *Exécuter*)"
   ]
  },
  {
   "cell_type": "code",
   "execution_count": null,
   "id": "8ab4658a",
   "metadata": {},
   "outputs": [],
   "source": [
    "# importation de la librairie pandas et utilisation de l'alias pd\n",
    "import pandas as pd \n",
    "\n",
    "def resp_levure():\n",
    "    # création de la dataframe\n",
    "    respiration = pd.read_csv('respiration_lev.csv', sep=\";\")\n",
    "    # met le fichier csv désigné dans une dataframe nommée respiration ; les séparateurs sont de type \";\"\n",
    "    # affichage de la dataframe\n",
    "    return(respiration) \n",
    "\n",
    "resp_levure()"
   ]
  },
  {
   "cell_type": "markdown",
   "id": "9408aed9",
   "metadata": {},
   "source": [
    "La *dataframe* s'est affichée ci-dessus :\n",
    "- La première colonne lisible, chiffrée de 0 à 6, correspond à l'indexation des lignes de la dataframe et aide à localiser les cellules (il est à noter que Python commence à compter à partir de 0).\n",
    "- La première ligne correspond à l'en-tête. Elle comporte le nom des colonnes et n'est pas comptabilisée.\n",
    "\n",
    "Le fonctionnement de la dataframe est comparable à celui d'une feuille de tableur"
   ]
  },
  {
   "cell_type": "markdown",
   "id": "4cbb5835",
   "metadata": {},
   "source": [
    "Maintenant, nous allons aborder une nouveauté : la construction d'un graphique à partir d'une *dataframe*.\n",
    "\n",
    "**Analyser** le code *Python* ci-dessous et **l'éxécuter** (bouton *Run* ou *Exécuter*)"
   ]
  },
  {
   "cell_type": "code",
   "execution_count": null,
   "id": "ce2c10e1",
   "metadata": {},
   "outputs": [],
   "source": [
    "# importation de la librairie matplotlib et son module pyplot spécialisé dans la création de graphique\n",
    "import matplotlib.pyplot as plt \n",
    "\n",
    "def graphe_1():\n",
    "    # stockage des données à prendre en compte dans des variables\n",
    "    x= resp_levure()['Temps_(min)'] # données axe des abscisses obtenues à partir de la fonction resp_levure\n",
    "    y1= resp_levure()['O2_(mg/L)']  # données axe des ordonnées obtenues à partir de la fonction resp_levure\n",
    "    y2= resp_levure()['CO2_(mg/L)'] # données axe des ordonnées obtenues à partir de la fonction resp_levure\n",
    "\n",
    "    plt.figure(figsize=(10,7)) # créé une figure et indique la largeur et la hauteur de celle-ci\n",
    "\n",
    "    # désignation des éléments à prendre en compte pour le grahique\n",
    "    plt.plot(x,y1, label='Quantité O2' ) # trace la courbe de la quantité d'O2 à partir de la df respiration\n",
    "    plt.plot(x,y2, label='Quantité CO2') # trace la courbe de la quantité d'CO2 à partir de la df respiration\n",
    "\n",
    "    # ajoute une annotation ainsi qu'une flèche sur le graphique - les valeurs entre parenthèses sont des coordonnées\n",
    "    plt.annotate('Injection de glucose', xy=(2, 0),xytext=(1.47,10), arrowprops={'facecolor':'black','arrowstyle':'->'})\n",
    "\n",
    "    # ajoute des titres au graphique\n",
    "    plt.title('Évolution de la concentration en O2 et CO2 en fonction du temps',fontweight=\"bold\") # donne le titre du graphique en gras\n",
    "    plt.xlabel('Temps (en minutes)') # dénomme l'axe X\n",
    "    plt.ylabel('Concentration en gaz (mg/L)')  # dénomme l'axe y\n",
    "\n",
    "\n",
    "    # affiche la légende du graphique\n",
    "    plt.legend(bbox_to_anchor=(1.05, 1), loc='upper left', borderaxespad=0.)  # (1.05,1) = position en haut à droite \n",
    "                                                                          # du graphique\n",
    "                                                               \n",
    "\n",
    "    # affichage d'une grille avec les lignes principales en gris foncé \n",
    "    plt.grid(True)       \n",
    "\n",
    "    # limites inférieures et supérieures des axes x et y, soit [xmin,xmax,ymin,ymax]\n",
    "    plt.axis([0,6,0,36])    \n",
    "\n",
    "    # affichage du graphique\n",
    "    plt.show() \n",
    "    return()\n",
    "\n",
    "graphe_1()"
   ]
  },
  {
   "cell_type": "markdown",
   "id": "40821d7f",
   "metadata": {},
   "source": [
    "2. **Analyser** le graphique obtenu."
   ]
  },
  {
   "cell_type": "raw",
   "id": "97a2451a",
   "metadata": {},
   "source": [
    "XXX"
   ]
  },
  {
   "cell_type": "markdown",
   "id": "52686e54",
   "metadata": {},
   "source": [
    "3. **Contruire** un graphique à partir du fichier *photosynthese_eugl.csv* en utilisant le code ci-dessus comme modèle.<br/>\n",
    "\n",
    "**NB :** **changer** le nom des variables. <br/>\n",
    "Les mesures commencent à l'obscurité. On allume la lumière à partir de 5 minutes et on l'éteint à partir de 15 minutes. Il est possible de faire figurer les changements de condition sur le graphique en rajoutant des commandes spécifiques sous matplotlib. Ceci sera vu durant la correction."
   ]
  },
  {
   "cell_type": "code",
   "execution_count": null,
   "id": "4c4b5727",
   "metadata": {},
   "outputs": [],
   "source": []
  },
  {
   "cell_type": "code",
   "execution_count": null,
   "id": "6956054d",
   "metadata": {},
   "outputs": [],
   "source": []
  },
  {
   "cell_type": "markdown",
   "id": "9c2dba81",
   "metadata": {},
   "source": [
    "4. **Analyser** le graphique obtenu."
   ]
  },
  {
   "cell_type": "raw",
   "id": "a748d7b9",
   "metadata": {},
   "source": [
    "XXX"
   ]
  },
  {
   "cell_type": "code",
   "execution_count": null,
   "id": "3f415f59",
   "metadata": {},
   "outputs": [],
   "source": []
  }
 ],
 "metadata": {
  "kernelspec": {
   "display_name": "Python 3",
   "language": "python",
   "name": "python3"
  },
  "language_info": {
   "codemirror_mode": {
    "name": "ipython",
    "version": 3
   },
   "file_extension": ".py",
   "mimetype": "text/x-python",
   "name": "python",
   "nbconvert_exporter": "python",
   "pygments_lexer": "ipython3",
   "version": "3.8.11"
  }
 },
 "nbformat": 4,
 "nbformat_minor": 5
}
